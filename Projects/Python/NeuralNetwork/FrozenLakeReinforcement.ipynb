{
 "metadata": {
  "language_info": {
   "codemirror_mode": {
    "name": "ipython",
    "version": 3
   },
   "file_extension": ".py",
   "mimetype": "text/x-python",
   "name": "python",
   "nbconvert_exporter": "python",
   "pygments_lexer": "ipython3",
   "version": "3.8.2-final"
  },
  "orig_nbformat": 2,
  "kernelspec": {
   "name": "python38264bitcf688b4200924e1a9de8aa02cb2c3f5c",
   "display_name": "Python 3.8.2 64-bit"
  }
 },
 "nbformat": 4,
 "nbformat_minor": 2,
 "cells": [
  {
   "cell_type": "code",
   "execution_count": 2,
   "metadata": {},
   "outputs": [],
   "source": [
    "import numpy as np #NumPy does funny math good\n",
    "import gym #imports OpenAI Gym which has a bunch of environments(games) to play with\n",
    "import matplotlib.pyplot as plt"
   ]
  },
  {
   "cell_type": "code",
   "execution_count": 4,
   "metadata": {},
   "outputs": [],
   "source": [
    "# Terminology:\n",
    "#     - Enviornemt In reinforcement learning tasks we have a notion of the enviornment. This is what our agent will explore. An example of an enviornment in the case of training an AI to play say a game of mario would be the level we are training the agent on.\n",
    "\n",
    "#     - Agent an agent is an entity that is exploring the enviornment. Our agent will interact and take different actions within the enviornment. In our mario example the mario character within the game would be our agent.\n",
    "\n",
    "#     - State always our agent will be in what we call a state. The state simply tells us about the status of the agent. The most common example of a state is the location of the agent within the enviornment. Moving locations would change the agents state.\n",
    "\n",
    "#     - Action any interaction between the agent and enviornment would be considered an action. For example, moving to the left or jumping would be an action. An action may or may not change the current state of the agent. In fact, the act of doing nothing is an action as well! The action of say not pressing a key if we are using our mario example.\n",
    "\n",
    "#     - Reward every action that our agent takes will result in a reward of some magnitude (positive or negative). The goal of our agent will be to maximize its reward in an enviornment. Sometimes the reward will be clear, for example if an agent performs an action which increases their score in the enviornment we could say they've recieved a positive reward. If the agent were to perform an action which results in them losing score or possibly dying in the enviornment then they would recieve a negative reward.\n",
    "\n",
    "#The most important part of reinforcement learning is determing how to reward the agent. After all, the goal of the agent is to maximize its rewards. This means we should reward the agent appropiately such that it reaches the desired goal."
   ]
  },
  {
   "cell_type": "code",
   "execution_count": 6,
   "metadata": {},
   "outputs": [],
   "source": [
    "env = gym.make(\"FrozenLake8x8-v0\")"
   ]
  },
  {
   "cell_type": "code",
   "execution_count": 8,
   "metadata": {
    "tags": []
   },
   "outputs": [
    {
     "output_type": "stream",
     "name": "stdout",
     "text": "Number of States: 64\nNumber of Actions per State 4\n"
    }
   ],
   "source": [
    "print(\"Number of States:\", env.observation_space.n)\n",
    "print(\"Number of Actions per State\", env.action_space.n)\n"
   ]
  },
  {
   "cell_type": "code",
   "execution_count": 10,
   "metadata": {
    "tags": []
   },
   "outputs": [],
   "source": [
    "#Building the Q-Table\n",
    "Q = np.zeros((env.observation_space.n, env.action_space.n)) #Creates a 64x4 Array of all possible States and Actions\n",
    "\n",
    "def getQ(state, action):\n",
    "    return Q[state,action] + ALPHA * (reward + GAMMA*max(Q[new_state,:]) - Q[state,action])\n",
    "    #      (current Q val)   (LR)       ||     (DF)  (max next reward)    (current Q val)"
   ]
  },
  {
   "cell_type": "code",
   "execution_count": 12,
   "metadata": {
    "tags": []
   },
   "outputs": [
    {
     "output_type": "stream",
     "name": "stderr",
     "text": "Progress: :  10%|▉         | 14468/150000 [00:10<01:43, 1306.67it/s]"
    },
    {
     "output_type": "error",
     "ename": "KeyboardInterrupt",
     "evalue": "",
     "traceback": [
      "\u001b[1;31m---------------------------------------------------------------------------\u001b[0m",
      "\u001b[1;31mKeyboardInterrupt\u001b[0m                         Traceback (most recent call last)",
      "\u001b[1;32m<ipython-input-12-5c4544fb663a>\u001b[0m in \u001b[0;36m<module>\u001b[1;34m\u001b[0m\n\u001b[0;32m     28\u001b[0m         \u001b[1;32melse\u001b[0m\u001b[1;33m:\u001b[0m\u001b[1;33m\u001b[0m\u001b[1;33m\u001b[0m\u001b[0m\n\u001b[0;32m     29\u001b[0m             \u001b[0maction\u001b[0m \u001b[1;33m=\u001b[0m \u001b[0mnp\u001b[0m\u001b[1;33m.\u001b[0m\u001b[0margmax\u001b[0m\u001b[1;33m(\u001b[0m\u001b[0mQ\u001b[0m\u001b[1;33m[\u001b[0m\u001b[0mstate\u001b[0m\u001b[1;33m,\u001b[0m \u001b[1;33m:\u001b[0m \u001b[1;33m]\u001b[0m\u001b[1;33m)\u001b[0m\u001b[1;33m\u001b[0m\u001b[1;33m\u001b[0m\u001b[0m\n\u001b[1;32m---> 30\u001b[1;33m         \u001b[0mnew_state\u001b[0m\u001b[1;33m,\u001b[0m \u001b[0mreward\u001b[0m\u001b[1;33m,\u001b[0m \u001b[0mdone\u001b[0m\u001b[1;33m,\u001b[0m \u001b[0m_\u001b[0m \u001b[1;33m=\u001b[0m \u001b[0menv\u001b[0m\u001b[1;33m.\u001b[0m\u001b[0mstep\u001b[0m\u001b[1;33m(\u001b[0m\u001b[0maction\u001b[0m\u001b[1;33m)\u001b[0m \u001b[1;31m#Takes the action\u001b[0m\u001b[1;33m\u001b[0m\u001b[1;33m\u001b[0m\u001b[0m\n\u001b[0m\u001b[0;32m     31\u001b[0m \u001b[1;33m\u001b[0m\u001b[0m\n\u001b[0;32m     32\u001b[0m         \u001b[1;31m#Updating Q-Table\u001b[0m\u001b[1;33m\u001b[0m\u001b[1;33m\u001b[0m\u001b[1;33m\u001b[0m\u001b[0m\n",
      "\u001b[1;32mC:\\Python38\\lib\\site-packages\\gym\\wrappers\\time_limit.py\u001b[0m in \u001b[0;36mstep\u001b[1;34m(self, action)\u001b[0m\n\u001b[0;32m     14\u001b[0m     \u001b[1;32mdef\u001b[0m \u001b[0mstep\u001b[0m\u001b[1;33m(\u001b[0m\u001b[0mself\u001b[0m\u001b[1;33m,\u001b[0m \u001b[0maction\u001b[0m\u001b[1;33m)\u001b[0m\u001b[1;33m:\u001b[0m\u001b[1;33m\u001b[0m\u001b[1;33m\u001b[0m\u001b[0m\n\u001b[0;32m     15\u001b[0m         \u001b[1;32massert\u001b[0m \u001b[0mself\u001b[0m\u001b[1;33m.\u001b[0m\u001b[0m_elapsed_steps\u001b[0m \u001b[1;32mis\u001b[0m \u001b[1;32mnot\u001b[0m \u001b[1;32mNone\u001b[0m\u001b[1;33m,\u001b[0m \u001b[1;34m\"Cannot call env.step() before calling reset()\"\u001b[0m\u001b[1;33m\u001b[0m\u001b[1;33m\u001b[0m\u001b[0m\n\u001b[1;32m---> 16\u001b[1;33m         \u001b[0mobservation\u001b[0m\u001b[1;33m,\u001b[0m \u001b[0mreward\u001b[0m\u001b[1;33m,\u001b[0m \u001b[0mdone\u001b[0m\u001b[1;33m,\u001b[0m \u001b[0minfo\u001b[0m \u001b[1;33m=\u001b[0m \u001b[0mself\u001b[0m\u001b[1;33m.\u001b[0m\u001b[0menv\u001b[0m\u001b[1;33m.\u001b[0m\u001b[0mstep\u001b[0m\u001b[1;33m(\u001b[0m\u001b[0maction\u001b[0m\u001b[1;33m)\u001b[0m\u001b[1;33m\u001b[0m\u001b[1;33m\u001b[0m\u001b[0m\n\u001b[0m\u001b[0;32m     17\u001b[0m         \u001b[0mself\u001b[0m\u001b[1;33m.\u001b[0m\u001b[0m_elapsed_steps\u001b[0m \u001b[1;33m+=\u001b[0m \u001b[1;36m1\u001b[0m\u001b[1;33m\u001b[0m\u001b[1;33m\u001b[0m\u001b[0m\n\u001b[0;32m     18\u001b[0m         \u001b[1;32mif\u001b[0m \u001b[0mself\u001b[0m\u001b[1;33m.\u001b[0m\u001b[0m_elapsed_steps\u001b[0m \u001b[1;33m>=\u001b[0m \u001b[0mself\u001b[0m\u001b[1;33m.\u001b[0m\u001b[0m_max_episode_steps\u001b[0m\u001b[1;33m:\u001b[0m\u001b[1;33m\u001b[0m\u001b[1;33m\u001b[0m\u001b[0m\n",
      "\u001b[1;32mC:\\Python38\\lib\\site-packages\\gym\\envs\\toy_text\\discrete.py\u001b[0m in \u001b[0;36mstep\u001b[1;34m(self, a)\u001b[0m\n\u001b[0;32m     53\u001b[0m     \u001b[1;32mdef\u001b[0m \u001b[0mstep\u001b[0m\u001b[1;33m(\u001b[0m\u001b[0mself\u001b[0m\u001b[1;33m,\u001b[0m \u001b[0ma\u001b[0m\u001b[1;33m)\u001b[0m\u001b[1;33m:\u001b[0m\u001b[1;33m\u001b[0m\u001b[1;33m\u001b[0m\u001b[0m\n\u001b[0;32m     54\u001b[0m         \u001b[0mtransitions\u001b[0m \u001b[1;33m=\u001b[0m \u001b[0mself\u001b[0m\u001b[1;33m.\u001b[0m\u001b[0mP\u001b[0m\u001b[1;33m[\u001b[0m\u001b[0mself\u001b[0m\u001b[1;33m.\u001b[0m\u001b[0ms\u001b[0m\u001b[1;33m]\u001b[0m\u001b[1;33m[\u001b[0m\u001b[0ma\u001b[0m\u001b[1;33m]\u001b[0m\u001b[1;33m\u001b[0m\u001b[1;33m\u001b[0m\u001b[0m\n\u001b[1;32m---> 55\u001b[1;33m         \u001b[0mi\u001b[0m \u001b[1;33m=\u001b[0m \u001b[0mcategorical_sample\u001b[0m\u001b[1;33m(\u001b[0m\u001b[1;33m[\u001b[0m\u001b[0mt\u001b[0m\u001b[1;33m[\u001b[0m\u001b[1;36m0\u001b[0m\u001b[1;33m]\u001b[0m \u001b[1;32mfor\u001b[0m \u001b[0mt\u001b[0m \u001b[1;32min\u001b[0m \u001b[0mtransitions\u001b[0m\u001b[1;33m]\u001b[0m\u001b[1;33m,\u001b[0m \u001b[0mself\u001b[0m\u001b[1;33m.\u001b[0m\u001b[0mnp_random\u001b[0m\u001b[1;33m)\u001b[0m\u001b[1;33m\u001b[0m\u001b[1;33m\u001b[0m\u001b[0m\n\u001b[0m\u001b[0;32m     56\u001b[0m         \u001b[0mp\u001b[0m\u001b[1;33m,\u001b[0m \u001b[0ms\u001b[0m\u001b[1;33m,\u001b[0m \u001b[0mr\u001b[0m\u001b[1;33m,\u001b[0m \u001b[0md\u001b[0m\u001b[1;33m=\u001b[0m \u001b[0mtransitions\u001b[0m\u001b[1;33m[\u001b[0m\u001b[0mi\u001b[0m\u001b[1;33m]\u001b[0m\u001b[1;33m\u001b[0m\u001b[1;33m\u001b[0m\u001b[0m\n\u001b[0;32m     57\u001b[0m         \u001b[0mself\u001b[0m\u001b[1;33m.\u001b[0m\u001b[0ms\u001b[0m \u001b[1;33m=\u001b[0m \u001b[0ms\u001b[0m\u001b[1;33m\u001b[0m\u001b[1;33m\u001b[0m\u001b[0m\n",
      "\u001b[1;32mC:\\Python38\\lib\\site-packages\\gym\\envs\\toy_text\\discrete.py\u001b[0m in \u001b[0;36mcategorical_sample\u001b[1;34m(prob_n, np_random)\u001b[0m\n\u001b[0;32m     11\u001b[0m     \u001b[0mprob_n\u001b[0m \u001b[1;33m=\u001b[0m \u001b[0mnp\u001b[0m\u001b[1;33m.\u001b[0m\u001b[0masarray\u001b[0m\u001b[1;33m(\u001b[0m\u001b[0mprob_n\u001b[0m\u001b[1;33m)\u001b[0m\u001b[1;33m\u001b[0m\u001b[1;33m\u001b[0m\u001b[0m\n\u001b[0;32m     12\u001b[0m     \u001b[0mcsprob_n\u001b[0m \u001b[1;33m=\u001b[0m \u001b[0mnp\u001b[0m\u001b[1;33m.\u001b[0m\u001b[0mcumsum\u001b[0m\u001b[1;33m(\u001b[0m\u001b[0mprob_n\u001b[0m\u001b[1;33m)\u001b[0m\u001b[1;33m\u001b[0m\u001b[1;33m\u001b[0m\u001b[0m\n\u001b[1;32m---> 13\u001b[1;33m     \u001b[1;32mreturn\u001b[0m \u001b[1;33m(\u001b[0m\u001b[0mcsprob_n\u001b[0m \u001b[1;33m>\u001b[0m \u001b[0mnp_random\u001b[0m\u001b[1;33m.\u001b[0m\u001b[0mrand\u001b[0m\u001b[1;33m(\u001b[0m\u001b[1;33m)\u001b[0m\u001b[1;33m)\u001b[0m\u001b[1;33m.\u001b[0m\u001b[0margmax\u001b[0m\u001b[1;33m(\u001b[0m\u001b[1;33m)\u001b[0m\u001b[1;33m\u001b[0m\u001b[1;33m\u001b[0m\u001b[0m\n\u001b[0m\u001b[0;32m     14\u001b[0m \u001b[1;33m\u001b[0m\u001b[0m\n\u001b[0;32m     15\u001b[0m \u001b[1;33m\u001b[0m\u001b[0m\n",
      "\u001b[1;31mKeyboardInterrupt\u001b[0m: "
     ]
    }
   ],
   "source": [
    "#Learning\n",
    "EPISODES = 150000\n",
    "MAX_STEPS = 1000\n",
    "EPSILON = 0.9\n",
    "from tqdm import tqdm\n",
    "progress = tqdm(total=EPISODES, position=0, leave=False)\n",
    "progress.set_description(\"Progress\")\n",
    "\n",
    "#Q-Table\n",
    "ALPHA = 0.81 #Represents the Learning Rate. This determines how much the agent will explore. High LR means more exploration\n",
    "GAMMA = 0.96 #Represents the Discount Factor. This determines how much the agent values the future reward. High DF means future rewards are more heavily considered\n",
    "\n",
    "rewards = [] #Log of Rewards per Episode\n",
    "\n",
    "#Training\n",
    "for e in range(EPISODES):\n",
    "    progress.update(1)\n",
    "    \n",
    "    state = env.reset() #Resets Environment\n",
    "\n",
    "    for s in range(MAX_STEPS):\n",
    "        \n",
    "        #env.render() #Renders Environment. CAUTION: Rendering takes more time to train\n",
    "        \n",
    "        #Picks Action. Chooses a random action EPSILON% of the time. Otherwise chooses the max reward option\n",
    "        if(np.random.uniform(0,1) < EPSILON):\n",
    "            action = env.action_space.sample() #Takes a random action, samples from env.action_space which is a list of possible actions {0: Left, 1: Down, 2: Right, 3: Up}\n",
    "        else: \n",
    "            action = np.argmax(Q[state, : ])\n",
    "        new_state, reward, done, _ = env.step(action) #Takes the action\n",
    "\n",
    "        #Updating Q-Table\n",
    "        Q[state, action] = getQ(state, action)\n",
    "\n",
    "        #changes states\n",
    "        state = new_state\n",
    "\n",
    "        #Handles if game finished\n",
    "        if done:\n",
    "            rewards.append(reward) #Adds \n",
    "            EPSILON -= 1/EPISODES #Steps down the random action rate to prioritize rewards over exploration\n",
    "            break"
   ]
  },
  {
   "cell_type": "code",
   "execution_count": null,
   "metadata": {},
   "outputs": [],
   "source": [
    "#Plotting the learning\n",
    "def get_average(values):\n",
    "  return sum(values)/len(values)\n",
    "\n",
    "avg_rewards = []\n",
    "for i in range(0, len(rewards), 100):\n",
    "  avg_rewards.append(get_average(rewards[i:i+100])) \n",
    "\n",
    "plt.plot(avg_rewards)\n",
    "plt.ylabel('average reward')\n",
    "plt.xlabel('episodes (100\\'s)')\n",
    "plt.show()"
   ]
  },
  {
   "cell_type": "code",
   "execution_count": 8,
   "metadata": {
    "tags": []
   },
   "outputs": [
    {
     "output_type": "stream",
     "name": "stdout",
     "text": "\n\u001b[41mS\u001b[0mFFFFFFF\nFFFFFFFF\nFFFHFFFF\nFFFFFHFF\nFFFHFFFF\nFHHFFFHF\nFHFFHFHF\nFFFHFFFG\n  (Left)\n\u001b[41mS\u001b[0mFFFFFFF\nFFFFFFFF\nFFFHFFFF\nFFFFFHFF\nFFFHFFFF\nFHHFFFHF\nFHFFHFHF\nFFFHFFFG\n  (Left)\n\u001b[41mS\u001b[0mFFFFFFF\nFFFFFFFF\nFFFHFFFF\nFFFFFHFF\nFFFHFFFF\nFHHFFFHF\nFHFFHFHF\nFFFHFFFG\n  (Left)\n\u001b[41mS\u001b[0mFFFFFFF\nFFFFFFFF\nFFFHFFFF\nFFFFFHFF\nFFFHFFFF\nFHHFFFHF\nFHFFHFHF\nFFFHFFFG\n  (Left)\nSFFFFFFF\n\u001b[41mF\u001b[0mFFFFFFF\nFFFHFFFF\nFFFFFHFF\nFFFHFFFF\nFHHFFFHF\nFHFFHFHF\nFFFHFFFG\n  (Left)\nSFFFFFFF\nFFFFFFFF\n\u001b[41mF\u001b[0mFFHFFFF\nFFFFFHFF\nFFFHFFFF\nFHHFFFHF\nFHFFHFHF\nFFFHFFFG\n  (Left)\nSFFFFFFF\nFFFFFFFF\nFFFHFFFF\n\u001b[41mF\u001b[0mFFFFHFF\nFFFHFFFF\nFHHFFFHF\nFHFFHFHF\nFFFHFFFG\n  (Left)\nSFFFFFFF\nFFFFFFFF\n\u001b[41mF\u001b[0mFFHFFFF\nFFFFFHFF\nFFFHFFFF\nFHHFFFHF\nFHFFHFHF\nFFFHFFFG\n  (Left)\nSFFFFFFF\nFFFFFFFF\nFFFHFFFF\n\u001b[41mF\u001b[0mFFFFHFF\nFFFHFFFF\nFHHFFFHF\nFHFFHFHF\nFFFHFFFG\n  (Left)\nSFFFFFFF\nFFFFFFFF\nFFFHFFFF\n\u001b[41mF\u001b[0mFFFFHFF\nFFFHFFFF\nFHHFFFHF\nFHFFHFHF\nFFFHFFFG\n  (Left)\nSFFFFFFF\nFFFFFFFF\nFFFHFFFF\n\u001b[41mF\u001b[0mFFFFHFF\nFFFHFFFF\nFHHFFFHF\nFHFFHFHF\nFFFHFFFG\n  (Left)\nSFFFFFFF\nFFFFFFFF\nFFFHFFFF\n\u001b[41mF\u001b[0mFFFFHFF\nFFFHFFFF\nFHHFFFHF\nFHFFHFHF\nFFFHFFFG\n  (Left)\nSFFFFFFF\nFFFFFFFF\nFFFHFFFF\nFFFFFHFF\n\u001b[41mF\u001b[0mFFHFFFF\nFHHFFFHF\nFHFFHFHF\nFFFHFFFG\n  (Left)\nSFFFFFFF\nFFFFFFFF\nFFFHFFFF\nFFFFFHFF\nFFFHFFFF\n\u001b[41mF\u001b[0mHHFFFHF\nFHFFHFHF\nFFFHFFFG\n  (Left)\nSFFFFFFF\nFFFFFFFF\nFFFHFFFF\nFFFFFHFF\nFFFHFFFF\n\u001b[41mF\u001b[0mHHFFFHF\nFHFFHFHF\nFFFHFFFG\n  (Left)\nSFFFFFFF\nFFFFFFFF\nFFFHFFFF\nFFFFFHFF\nFFFHFFFF\n\u001b[41mF\u001b[0mHHFFFHF\nFHFFHFHF\nFFFHFFFG\n  (Left)\nSFFFFFFF\nFFFFFFFF\nFFFHFFFF\nFFFFFHFF\nFFFHFFFF\n\u001b[41mF\u001b[0mHHFFFHF\nFHFFHFHF\nFFFHFFFG\n  (Left)\nSFFFFFFF\nFFFFFFFF\nFFFHFFFF\nFFFFFHFF\n\u001b[41mF\u001b[0mFFHFFFF\nFHHFFFHF\nFHFFHFHF\nFFFHFFFG\n  (Left)\nSFFFFFFF\nFFFFFFFF\nFFFHFFFF\nFFFFFHFF\nFFFHFFFF\n\u001b[41mF\u001b[0mHHFFFHF\nFHFFHFHF\nFFFHFFFG\n  (Left)\nSFFFFFFF\nFFFFFFFF\nFFFHFFFF\nFFFFFHFF\nFFFHFFFF\nFHHFFFHF\n\u001b[41mF\u001b[0mHFFHFHF\nFFFHFFFG\n  (Left)\nSFFFFFFF\nFFFFFFFF\nFFFHFFFF\nFFFFFHFF\nFFFHFFFF\nFHHFFFHF\n\u001b[41mF\u001b[0mHFFHFHF\nFFFHFFFG\n  (Left)\nSFFFFFFF\nFFFFFFFF\nFFFHFFFF\nFFFFFHFF\nFFFHFFFF\nFHHFFFHF\n\u001b[41mF\u001b[0mHFFHFHF\nFFFHFFFG\n  (Left)\nSFFFFFFF\nFFFFFFFF\nFFFHFFFF\nFFFFFHFF\nFFFHFFFF\nFHHFFFHF\n\u001b[41mF\u001b[0mHFFHFHF\nFFFHFFFG\n  (Left)\nSFFFFFFF\nFFFFFFFF\nFFFHFFFF\nFFFFFHFF\nFFFHFFFF\nFHHFFFHF\nFHFFHFHF\n\u001b[41mF\u001b[0mFFHFFFG\n  (Left)\nSFFFFFFF\nFFFFFFFF\nFFFHFFFF\nFFFFFHFF\nFFFHFFFF\nFHHFFFHF\nFHFFHFHF\n\u001b[41mF\u001b[0mFFHFFFG\n  (Left)\nSFFFFFFF\nFFFFFFFF\nFFFHFFFF\nFFFFFHFF\nFFFHFFFF\nFHHFFFHF\n\u001b[41mF\u001b[0mHFFHFHF\nFFFHFFFG\n  (Left)\nSFFFFFFF\nFFFFFFFF\nFFFHFFFF\nFFFFFHFF\nFFFHFFFF\nFHHFFFHF\n\u001b[41mF\u001b[0mHFFHFHF\nFFFHFFFG\n  (Left)\nSFFFFFFF\nFFFFFFFF\nFFFHFFFF\nFFFFFHFF\nFFFHFFFF\nFHHFFFHF\nFHFFHFHF\n\u001b[41mF\u001b[0mFFHFFFG\n  (Left)\nSFFFFFFF\nFFFFFFFF\nFFFHFFFF\nFFFFFHFF\nFFFHFFFF\nFHHFFFHF\nFHFFHFHF\n\u001b[41mF\u001b[0mFFHFFFG\n  (Left)\nSFFFFFFF\nFFFFFFFF\nFFFHFFFF\nFFFFFHFF\nFFFHFFFF\nFHHFFFHF\nFHFFHFHF\n\u001b[41mF\u001b[0mFFHFFFG\n  (Left)\nSFFFFFFF\nFFFFFFFF\nFFFHFFFF\nFFFFFHFF\nFFFHFFFF\nFHHFFFHF\nFHFFHFHF\n\u001b[41mF\u001b[0mFFHFFFG\n  (Left)\nSFFFFFFF\nFFFFFFFF\nFFFHFFFF\nFFFFFHFF\nFFFHFFFF\nFHHFFFHF\n\u001b[41mF\u001b[0mHFFHFHF\nFFFHFFFG\n  (Left)\nSFFFFFFF\nFFFFFFFF\nFFFHFFFF\nFFFFFHFF\nFFFHFFFF\nFHHFFFHF\nFHFFHFHF\n\u001b[41mF\u001b[0mFFHFFFG\n  (Left)\nSFFFFFFF\nFFFFFFFF\nFFFHFFFF\nFFFFFHFF\nFFFHFFFF\nFHHFFFHF\nFHFFHFHF\n\u001b[41mF\u001b[0mFFHFFFG\n  (Left)\nSFFFFFFF\nFFFFFFFF\nFFFHFFFF\nFFFFFHFF\nFFFHFFFF\nFHHFFFHF\nFHFFHFHF\n\u001b[41mF\u001b[0mFFHFFFG\n  (Left)\nSFFFFFFF\nFFFFFFFF\nFFFHFFFF\nFFFFFHFF\nFFFHFFFF\nFHHFFFHF\n\u001b[41mF\u001b[0mHFFHFHF\nFFFHFFFG\n  (Left)\nSFFFFFFF\nFFFFFFFF\nFFFHFFFF\nFFFFFHFF\nFFFHFFFF\n\u001b[41mF\u001b[0mHHFFFHF\nFHFFHFHF\nFFFHFFFG\n  (Left)\nSFFFFFFF\nFFFFFFFF\nFFFHFFFF\nFFFFFHFF\n\u001b[41mF\u001b[0mFFHFFFF\nFHHFFFHF\nFHFFHFHF\nFFFHFFFG\n  (Left)\nSFFFFFFF\nFFFFFFFF\nFFFHFFFF\n\u001b[41mF\u001b[0mFFFFHFF\nFFFHFFFF\nFHHFFFHF\nFHFFHFHF\nFFFHFFFG\n  (Left)\nSFFFFFFF\nFFFFFFFF\n\u001b[41mF\u001b[0mFFHFFFF\nFFFFFHFF\nFFFHFFFF\nFHHFFFHF\nFHFFHFHF\nFFFHFFFG\n  (Left)\nSFFFFFFF\nFFFFFFFF\nFFFHFFFF\n\u001b[41mF\u001b[0mFFFFHFF\nFFFHFFFF\nFHHFFFHF\nFHFFHFHF\nFFFHFFFG\n  (Left)\nSFFFFFFF\nFFFFFFFF\nFFFHFFFF\nFFFFFHFF\n\u001b[41mF\u001b[0mFFHFFFF\nFHHFFFHF\nFHFFHFHF\nFFFHFFFG\n  (Left)\nSFFFFFFF\nFFFFFFFF\nFFFHFFFF\n\u001b[41mF\u001b[0mFFFFHFF\nFFFHFFFF\nFHHFFFHF\nFHFFHFHF\nFFFHFFFG\n  (Left)\nSFFFFFFF\nFFFFFFFF\n\u001b[41mF\u001b[0mFFHFFFF\nFFFFFHFF\nFFFHFFFF\nFHHFFFHF\nFHFFHFHF\nFFFHFFFG\n  (Left)\nSFFFFFFF\n\u001b[41mF\u001b[0mFFFFFFF\nFFFHFFFF\nFFFFFHFF\nFFFHFFFF\nFHHFFFHF\nFHFFHFHF\nFFFHFFFG\n  (Left)\n\u001b[41mS\u001b[0mFFFFFFF\nFFFFFFFF\nFFFHFFFF\nFFFFFHFF\nFFFHFFFF\nFHHFFFHF\nFHFFHFHF\nFFFHFFFG\n  (Left)\n\u001b[41mS\u001b[0mFFFFFFF\nFFFFFFFF\nFFFHFFFF\nFFFFFHFF\nFFFHFFFF\nFHHFFFHF\nFHFFHFHF\nFFFHFFFG\n  (Left)\n\u001b[41mS\u001b[0mFFFFFFF\nFFFFFFFF\nFFFHFFFF\nFFFFFHFF\nFFFHFFFF\nFHHFFFHF\nFHFFHFHF\nFFFHFFFG\n  (Left)\n\u001b[41mS\u001b[0mFFFFFFF\nFFFFFFFF\nFFFHFFFF\nFFFFFHFF\nFFFHFFFF\nFHHFFFHF\nFHFFHFHF\nFFFHFFFG\n  (Left)\n\u001b[41mS\u001b[0mFFFFFFF\nFFFFFFFF\nFFFHFFFF\nFFFFFHFF\nFFFHFFFF\nFHHFFFHF\nFHFFHFHF\nFFFHFFFG\n  (Left)\n\u001b[41mS\u001b[0mFFFFFFF\nFFFFFFFF\nFFFHFFFF\nFFFFFHFF\nFFFHFFFF\nFHHFFFHF\nFHFFHFHF\nFFFHFFFG\n  (Left)\n\u001b[41mS\u001b[0mFFFFFFF\nFFFFFFFF\nFFFHFFFF\nFFFFFHFF\nFFFHFFFF\nFHHFFFHF\nFHFFHFHF\nFFFHFFFG\n  (Left)\n\u001b[41mS\u001b[0mFFFFFFF\nFFFFFFFF\nFFFHFFFF\nFFFFFHFF\nFFFHFFFF\nFHHFFFHF\nFHFFHFHF\nFFFHFFFG\n  (Left)\n\u001b[41mS\u001b[0mFFFFFFF\nFFFFFFFF\nFFFHFFFF\nFFFFFHFF\nFFFHFFFF\nFHHFFFHF\nFHFFHFHF\nFFFHFFFG\n  (Left)\n\u001b[41mS\u001b[0mFFFFFFF\nFFFFFFFF\nFFFHFFFF\nFFFFFHFF\nFFFHFFFF\nFHHFFFHF\nFHFFHFHF\nFFFHFFFG\n  (Left)\n\u001b[41mS\u001b[0mFFFFFFF\nFFFFFFFF\nFFFHFFFF\nFFFFFHFF\nFFFHFFFF\nFHHFFFHF\nFHFFHFHF\nFFFHFFFG\n  (Left)\n\u001b[41mS\u001b[0mFFFFFFF\nFFFFFFFF\nFFFHFFFF\nFFFFFHFF\nFFFHFFFF\nFHHFFFHF\nFHFFHFHF\nFFFHFFFG\n  (Left)\nSFFFFFFF\n\u001b[41mF\u001b[0mFFFFFFF\nFFFHFFFF\nFFFFFHFF\nFFFHFFFF\nFHHFFFHF\nFHFFHFHF\nFFFHFFFG\n  (Left)\n\u001b[41mS\u001b[0mFFFFFFF\nFFFFFFFF\nFFFHFFFF\nFFFFFHFF\nFFFHFFFF\nFHHFFFHF\nFHFFHFHF\nFFFHFFFG\n  (Left)\n\u001b[41mS\u001b[0mFFFFFFF\nFFFFFFFF\nFFFHFFFF\nFFFFFHFF\nFFFHFFFF\nFHHFFFHF\nFHFFHFHF\nFFFHFFFG\n  (Left)\n\u001b[41mS\u001b[0mFFFFFFF\nFFFFFFFF\nFFFHFFFF\nFFFFFHFF\nFFFHFFFF\nFHHFFFHF\nFHFFHFHF\nFFFHFFFG\n  (Left)\n\u001b[41mS\u001b[0mFFFFFFF\nFFFFFFFF\nFFFHFFFF\nFFFFFHFF\nFFFHFFFF\nFHHFFFHF\nFHFFHFHF\nFFFHFFFG\n  (Left)\n\u001b[41mS\u001b[0mFFFFFFF\nFFFFFFFF\nFFFHFFFF\nFFFFFHFF\nFFFHFFFF\nFHHFFFHF\nFHFFHFHF\nFFFHFFFG\n  (Left)\n\u001b[41mS\u001b[0mFFFFFFF\nFFFFFFFF\nFFFHFFFF\nFFFFFHFF\nFFFHFFFF\nFHHFFFHF\nFHFFHFHF\nFFFHFFFG\n  (Left)\nSFFFFFFF\n\u001b[41mF\u001b[0mFFFFFFF\nFFFHFFFF\nFFFFFHFF\nFFFHFFFF\nFHHFFFHF\nFHFFHFHF\nFFFHFFFG\n  (Left)\nSFFFFFFF\n\u001b[41mF\u001b[0mFFFFFFF\nFFFHFFFF\nFFFFFHFF\nFFFHFFFF\nFHHFFFHF\nFHFFHFHF\nFFFHFFFG\n  (Left)\nSFFFFFFF\nFFFFFFFF\n\u001b[41mF\u001b[0mFFHFFFF\nFFFFFHFF\nFFFHFFFF\nFHHFFFHF\nFHFFHFHF\nFFFHFFFG\n  (Left)\nSFFFFFFF\n\u001b[41mF\u001b[0mFFFFFFF\nFFFHFFFF\nFFFFFHFF\nFFFHFFFF\nFHHFFFHF\nFHFFHFHF\nFFFHFFFG\n  (Left)\nSFFFFFFF\nFFFFFFFF\n\u001b[41mF\u001b[0mFFHFFFF\nFFFFFHFF\nFFFHFFFF\nFHHFFFHF\nFHFFHFHF\nFFFHFFFG\n  (Left)\nSFFFFFFF\nFFFFFFFF\nFFFHFFFF\n\u001b[41mF\u001b[0mFFFFHFF\nFFFHFFFF\nFHHFFFHF\nFHFFHFHF\nFFFHFFFG\n  (Left)\nSFFFFFFF\nFFFFFFFF\n\u001b[41mF\u001b[0mFFHFFFF\nFFFFFHFF\nFFFHFFFF\nFHHFFFHF\nFHFFHFHF\nFFFHFFFG\n  (Left)\nSFFFFFFF\n\u001b[41mF\u001b[0mFFFFFFF\nFFFHFFFF\nFFFFFHFF\nFFFHFFFF\nFHHFFFHF\nFHFFHFHF\nFFFHFFFG\n  (Left)\n\u001b[41mS\u001b[0mFFFFFFF\nFFFFFFFF\nFFFHFFFF\nFFFFFHFF\nFFFHFFFF\nFHHFFFHF\nFHFFHFHF\nFFFHFFFG\n  (Left)\n\u001b[41mS\u001b[0mFFFFFFF\nFFFFFFFF\nFFFHFFFF\nFFFFFHFF\nFFFHFFFF\nFHHFFFHF\nFHFFHFHF\nFFFHFFFG\n  (Left)\nSFFFFFFF\n\u001b[41mF\u001b[0mFFFFFFF\nFFFHFFFF\nFFFFFHFF\nFFFHFFFF\nFHHFFFHF\nFHFFHFHF\nFFFHFFFG\n  (Left)\nSFFFFFFF\nFFFFFFFF\n\u001b[41mF\u001b[0mFFHFFFF\nFFFFFHFF\nFFFHFFFF\nFHHFFFHF\nFHFFHFHF\nFFFHFFFG\n  (Left)\nSFFFFFFF\nFFFFFFFF\nFFFHFFFF\n\u001b[41mF\u001b[0mFFFFHFF\nFFFHFFFF\nFHHFFFHF\nFHFFHFHF\nFFFHFFFG\n  (Left)\nSFFFFFFF\nFFFFFFFF\nFFFHFFFF\n\u001b[41mF\u001b[0mFFFFHFF\nFFFHFFFF\nFHHFFFHF\nFHFFHFHF\nFFFHFFFG\n  (Left)\nSFFFFFFF\nFFFFFFFF\n\u001b[41mF\u001b[0mFFHFFFF\nFFFFFHFF\nFFFHFFFF\nFHHFFFHF\nFHFFHFHF\nFFFHFFFG\n  (Left)\nSFFFFFFF\nFFFFFFFF\n\u001b[41mF\u001b[0mFFHFFFF\nFFFFFHFF\nFFFHFFFF\nFHHFFFHF\nFHFFHFHF\nFFFHFFFG\n  (Left)\nSFFFFFFF\nFFFFFFFF\nFFFHFFFF\n\u001b[41mF\u001b[0mFFFFHFF\nFFFHFFFF\nFHHFFFHF\nFHFFHFHF\nFFFHFFFG\n  (Left)\nSFFFFFFF\nFFFFFFFF\nFFFHFFFF\nFFFFFHFF\n\u001b[41mF\u001b[0mFFHFFFF\nFHHFFFHF\nFHFFHFHF\nFFFHFFFG\n  (Left)\nSFFFFFFF\nFFFFFFFF\nFFFHFFFF\n\u001b[41mF\u001b[0mFFFFHFF\nFFFHFFFF\nFHHFFFHF\nFHFFHFHF\nFFFHFFFG\n  (Left)\nSFFFFFFF\nFFFFFFFF\n\u001b[41mF\u001b[0mFFHFFFF\nFFFFFHFF\nFFFHFFFF\nFHHFFFHF\nFHFFHFHF\nFFFHFFFG\n  (Left)\nSFFFFFFF\nFFFFFFFF\n\u001b[41mF\u001b[0mFFHFFFF\nFFFFFHFF\nFFFHFFFF\nFHHFFFHF\nFHFFHFHF\nFFFHFFFG\n  (Left)\nSFFFFFFF\nFFFFFFFF\nFFFHFFFF\n\u001b[41mF\u001b[0mFFFFHFF\nFFFHFFFF\nFHHFFFHF\nFHFFHFHF\nFFFHFFFG\n  (Left)\nSFFFFFFF\nFFFFFFFF\n\u001b[41mF\u001b[0mFFHFFFF\nFFFFFHFF\nFFFHFFFF\nFHHFFFHF\nFHFFHFHF\nFFFHFFFG\n  (Left)\nSFFFFFFF\nFFFFFFFF\nFFFHFFFF\n\u001b[41mF\u001b[0mFFFFHFF\nFFFHFFFF\nFHHFFFHF\nFHFFHFHF\nFFFHFFFG\n  (Left)\nSFFFFFFF\nFFFFFFFF\n\u001b[41mF\u001b[0mFFHFFFF\nFFFFFHFF\nFFFHFFFF\nFHHFFFHF\nFHFFHFHF\nFFFHFFFG\n  (Left)\nSFFFFFFF\nFFFFFFFF\n\u001b[41mF\u001b[0mFFHFFFF\nFFFFFHFF\nFFFHFFFF\nFHHFFFHF\nFHFFHFHF\nFFFHFFFG\n  (Left)\nSFFFFFFF\nFFFFFFFF\nFFFHFFFF\n\u001b[41mF\u001b[0mFFFFHFF\nFFFHFFFF\nFHHFFFHF\nFHFFHFHF\nFFFHFFFG\n  (Left)\nSFFFFFFF\nFFFFFFFF\n\u001b[41mF\u001b[0mFFHFFFF\nFFFFFHFF\nFFFHFFFF\nFHHFFFHF\nFHFFHFHF\nFFFHFFFG\n  (Left)\nSFFFFFFF\nFFFFFFFF\nFFFHFFFF\n\u001b[41mF\u001b[0mFFFFHFF\nFFFHFFFF\nFHHFFFHF\nFHFFHFHF\nFFFHFFFG\n  (Left)\nSFFFFFFF\nFFFFFFFF\nFFFHFFFF\n\u001b[41mF\u001b[0mFFFFHFF\nFFFHFFFF\nFHHFFFHF\nFHFFHFHF\nFFFHFFFG\n  (Left)\nSFFFFFFF\nFFFFFFFF\n\u001b[41mF\u001b[0mFFHFFFF\nFFFFFHFF\nFFFHFFFF\nFHHFFFHF\nFHFFHFHF\nFFFHFFFG\n  (Left)\nSFFFFFFF\n\u001b[41mF\u001b[0mFFFFFFF\nFFFHFFFF\nFFFFFHFF\nFFFHFFFF\nFHHFFFHF\nFHFFHFHF\nFFFHFFFG\n  (Left)\nSFFFFFFF\n\u001b[41mF\u001b[0mFFFFFFF\nFFFHFFFF\nFFFFFHFF\nFFFHFFFF\nFHHFFFHF\nFHFFHFHF\nFFFHFFFG\n  (Left)\n\u001b[41mS\u001b[0mFFFFFFF\nFFFFFFFF\nFFFHFFFF\nFFFFFHFF\nFFFHFFFF\nFHHFFFHF\nFHFFHFHF\nFFFHFFFG\n  (Left)\n\u001b[41mS\u001b[0mFFFFFFF\nFFFFFFFF\nFFFHFFFF\nFFFFFHFF\nFFFHFFFF\nFHHFFFHF\nFHFFHFHF\nFFFHFFFG\n  (Left)\n\u001b[41mS\u001b[0mFFFFFFF\nFFFFFFFF\nFFFHFFFF\nFFFFFHFF\nFFFHFFFF\nFHHFFFHF\nFHFFHFHF\nFFFHFFFG\n  (Left)\n\u001b[41mS\u001b[0mFFFFFFF\nFFFFFFFF\nFFFHFFFF\nFFFFFHFF\nFFFHFFFF\nFHHFFFHF\nFHFFHFHF\nFFFHFFFG\n  (Left)\n\u001b[41mS\u001b[0mFFFFFFF\nFFFFFFFF\nFFFHFFFF\nFFFFFHFF\nFFFHFFFF\nFHHFFFHF\nFHFFHFHF\nFFFHFFFG\n  (Left)\n\u001b[41mS\u001b[0mFFFFFFF\nFFFFFFFF\nFFFHFFFF\nFFFFFHFF\nFFFHFFFF\nFHHFFFHF\nFHFFHFHF\nFFFHFFFG\n  (Left)\n\u001b[41mS\u001b[0mFFFFFFF\nFFFFFFFF\nFFFHFFFF\nFFFFFHFF\nFFFHFFFF\nFHHFFFHF\nFHFFHFHF\nFFFHFFFG\n  (Left)\nSFFFFFFF\n\u001b[41mF\u001b[0mFFFFFFF\nFFFHFFFF\nFFFFFHFF\nFFFHFFFF\nFHHFFFHF\nFHFFHFHF\nFFFHFFFG\n  (Left)\nSFFFFFFF\nFFFFFFFF\n\u001b[41mF\u001b[0mFFHFFFF\nFFFFFHFF\nFFFHFFFF\nFHHFFFHF\nFHFFHFHF\nFFFHFFFG\n  (Left)\nSFFFFFFF\nFFFFFFFF\nFFFHFFFF\n\u001b[41mF\u001b[0mFFFFHFF\nFFFHFFFF\nFHHFFFHF\nFHFFHFHF\nFFFHFFFG\n  (Left)\nSFFFFFFF\nFFFFFFFF\nFFFHFFFF\n\u001b[41mF\u001b[0mFFFFHFF\nFFFHFFFF\nFHHFFFHF\nFHFFHFHF\nFFFHFFFG\n  (Left)\nSFFFFFFF\nFFFFFFFF\nFFFHFFFF\n\u001b[41mF\u001b[0mFFFFHFF\nFFFHFFFF\nFHHFFFHF\nFHFFHFHF\nFFFHFFFG\n  (Left)\nSFFFFFFF\nFFFFFFFF\nFFFHFFFF\n\u001b[41mF\u001b[0mFFFFHFF\nFFFHFFFF\nFHHFFFHF\nFHFFHFHF\nFFFHFFFG\n  (Left)\nSFFFFFFF\nFFFFFFFF\nFFFHFFFF\n\u001b[41mF\u001b[0mFFFFHFF\nFFFHFFFF\nFHHFFFHF\nFHFFHFHF\nFFFHFFFG\n  (Left)\nSFFFFFFF\nFFFFFFFF\n\u001b[41mF\u001b[0mFFHFFFF\nFFFFFHFF\nFFFHFFFF\nFHHFFFHF\nFHFFHFHF\nFFFHFFFG\n  (Left)\nSFFFFFFF\nFFFFFFFF\n\u001b[41mF\u001b[0mFFHFFFF\nFFFFFHFF\nFFFHFFFF\nFHHFFFHF\nFHFFHFHF\nFFFHFFFG\n  (Left)\nSFFFFFFF\nFFFFFFFF\n\u001b[41mF\u001b[0mFFHFFFF\nFFFFFHFF\nFFFHFFFF\nFHHFFFHF\nFHFFHFHF\nFFFHFFFG\n  (Left)\nSFFFFFFF\nFFFFFFFF\n\u001b[41mF\u001b[0mFFHFFFF\nFFFFFHFF\nFFFHFFFF\nFHHFFFHF\nFHFFHFHF\nFFFHFFFG\n  (Left)\nSFFFFFFF\nFFFFFFFF\nFFFHFFFF\n\u001b[41mF\u001b[0mFFFFHFF\nFFFHFFFF\nFHHFFFHF\nFHFFHFHF\nFFFHFFFG\n  (Left)\nSFFFFFFF\nFFFFFFFF\n\u001b[41mF\u001b[0mFFHFFFF\nFFFFFHFF\nFFFHFFFF\nFHHFFFHF\nFHFFHFHF\nFFFHFFFG\n  (Left)\nSFFFFFFF\nFFFFFFFF\n\u001b[41mF\u001b[0mFFHFFFF\nFFFFFHFF\nFFFHFFFF\nFHHFFFHF\nFHFFHFHF\nFFFHFFFG\n  (Left)\nSFFFFFFF\nFFFFFFFF\nFFFHFFFF\n\u001b[41mF\u001b[0mFFFFHFF\nFFFHFFFF\nFHHFFFHF\nFHFFHFHF\nFFFHFFFG\n  (Left)\nSFFFFFFF\nFFFFFFFF\nFFFHFFFF\nFFFFFHFF\n\u001b[41mF\u001b[0mFFHFFFF\nFHHFFFHF\nFHFFHFHF\nFFFHFFFG\n  (Left)\nSFFFFFFF\nFFFFFFFF\nFFFHFFFF\nFFFFFHFF\n\u001b[41mF\u001b[0mFFHFFFF\nFHHFFFHF\nFHFFHFHF\nFFFHFFFG\n  (Left)\nSFFFFFFF\nFFFFFFFF\nFFFHFFFF\nFFFFFHFF\n\u001b[41mF\u001b[0mFFHFFFF\nFHHFFFHF\nFHFFHFHF\nFFFHFFFG\n  (Left)\nSFFFFFFF\nFFFFFFFF\nFFFHFFFF\nFFFFFHFF\n\u001b[41mF\u001b[0mFFHFFFF\nFHHFFFHF\nFHFFHFHF\nFFFHFFFG\n  (Left)\nSFFFFFFF\nFFFFFFFF\nFFFHFFFF\n\u001b[41mF\u001b[0mFFFFHFF\nFFFHFFFF\nFHHFFFHF\nFHFFHFHF\nFFFHFFFG\n  (Left)\nSFFFFFFF\nFFFFFFFF\nFFFHFFFF\n\u001b[41mF\u001b[0mFFFFHFF\nFFFHFFFF\nFHHFFFHF\nFHFFHFHF\nFFFHFFFG\n  (Left)\nSFFFFFFF\nFFFFFFFF\n\u001b[41mF\u001b[0mFFHFFFF\nFFFFFHFF\nFFFHFFFF\nFHHFFFHF\nFHFFHFHF\nFFFHFFFG\n  (Left)\nSFFFFFFF\nFFFFFFFF\n\u001b[41mF\u001b[0mFFHFFFF\nFFFFFHFF\nFFFHFFFF\nFHHFFFHF\nFHFFHFHF\nFFFHFFFG\n  (Left)\nSFFFFFFF\n\u001b[41mF\u001b[0mFFFFFFF\nFFFHFFFF\nFFFFFHFF\nFFFHFFFF\nFHHFFFHF\nFHFFHFHF\nFFFHFFFG\n  (Left)\nSFFFFFFF\n\u001b[41mF\u001b[0mFFFFFFF\nFFFHFFFF\nFFFFFHFF\nFFFHFFFF\nFHHFFFHF\nFHFFHFHF\nFFFHFFFG\n  (Left)\nSFFFFFFF\n\u001b[41mF\u001b[0mFFFFFFF\nFFFHFFFF\nFFFFFHFF\nFFFHFFFF\nFHHFFFHF\nFHFFHFHF\nFFFHFFFG\n  (Left)\nSFFFFFFF\nFFFFFFFF\n\u001b[41mF\u001b[0mFFHFFFF\nFFFFFHFF\nFFFHFFFF\nFHHFFFHF\nFHFFHFHF\nFFFHFFFG\n  (Left)\nSFFFFFFF\nFFFFFFFF\n\u001b[41mF\u001b[0mFFHFFFF\nFFFFFHFF\nFFFHFFFF\nFHHFFFHF\nFHFFHFHF\nFFFHFFFG\n  (Left)\nSFFFFFFF\nFFFFFFFF\nFFFHFFFF\n\u001b[41mF\u001b[0mFFFFHFF\nFFFHFFFF\nFHHFFFHF\nFHFFHFHF\nFFFHFFFG\n  (Left)\nSFFFFFFF\nFFFFFFFF\nFFFHFFFF\nFFFFFHFF\n\u001b[41mF\u001b[0mFFHFFFF\nFHHFFFHF\nFHFFHFHF\nFFFHFFFG\n  (Left)\nSFFFFFFF\nFFFFFFFF\nFFFHFFFF\n\u001b[41mF\u001b[0mFFFFHFF\nFFFHFFFF\nFHHFFFHF\nFHFFHFHF\nFFFHFFFG\n  (Left)\nSFFFFFFF\nFFFFFFFF\n\u001b[41mF\u001b[0mFFHFFFF\nFFFFFHFF\nFFFHFFFF\nFHHFFFHF\nFHFFHFHF\nFFFHFFFG\n  (Left)\nSFFFFFFF\n\u001b[41mF\u001b[0mFFFFFFF\nFFFHFFFF\nFFFFFHFF\nFFFHFFFF\nFHHFFFHF\nFHFFHFHF\nFFFHFFFG\n  (Left)\nSFFFFFFF\nFFFFFFFF\n\u001b[41mF\u001b[0mFFHFFFF\nFFFFFHFF\nFFFHFFFF\nFHHFFFHF\nFHFFHFHF\nFFFHFFFG\n  (Left)\nSFFFFFFF\nFFFFFFFF\nFFFHFFFF\n\u001b[41mF\u001b[0mFFFFHFF\nFFFHFFFF\nFHHFFFHF\nFHFFHFHF\nFFFHFFFG\n  (Left)\nSFFFFFFF\nFFFFFFFF\nFFFHFFFF\nFFFFFHFF\n\u001b[41mF\u001b[0mFFHFFFF\nFHHFFFHF\nFHFFHFHF\nFFFHFFFG\n  (Left)\nSFFFFFFF\nFFFFFFFF\nFFFHFFFF\nFFFFFHFF\n\u001b[41mF\u001b[0mFFHFFFF\nFHHFFFHF\nFHFFHFHF\nFFFHFFFG\n  (Left)\nSFFFFFFF\nFFFFFFFF\nFFFHFFFF\nFFFFFHFF\nFFFHFFFF\n\u001b[41mF\u001b[0mHHFFFHF\nFHFFHFHF\nFFFHFFFG\n  (Left)\nSFFFFFFF\nFFFFFFFF\nFFFHFFFF\nFFFFFHFF\n\u001b[41mF\u001b[0mFFHFFFF\nFHHFFFHF\nFHFFHFHF\nFFFHFFFG\n  (Left)\nSFFFFFFF\nFFFFFFFF\nFFFHFFFF\nFFFFFHFF\n\u001b[41mF\u001b[0mFFHFFFF\nFHHFFFHF\nFHFFHFHF\nFFFHFFFG\n  (Left)\nSFFFFFFF\nFFFFFFFF\nFFFHFFFF\nFFFFFHFF\nFFFHFFFF\n\u001b[41mF\u001b[0mHHFFFHF\nFHFFHFHF\nFFFHFFFG\n  (Left)\nSFFFFFFF\nFFFFFFFF\nFFFHFFFF\nFFFFFHFF\nFFFHFFFF\n\u001b[41mF\u001b[0mHHFFFHF\nFHFFHFHF\nFFFHFFFG\n  (Left)\nSFFFFFFF\nFFFFFFFF\nFFFHFFFF\nFFFFFHFF\n\u001b[41mF\u001b[0mFFHFFFF\nFHHFFFHF\nFHFFHFHF\nFFFHFFFG\n  (Left)\nSFFFFFFF\nFFFFFFFF\nFFFHFFFF\nFFFFFHFF\nFFFHFFFF\n\u001b[41mF\u001b[0mHHFFFHF\nFHFFHFHF\nFFFHFFFG\n  (Left)\nSFFFFFFF\nFFFFFFFF\nFFFHFFFF\nFFFFFHFF\nFFFHFFFF\nFHHFFFHF\n\u001b[41mF\u001b[0mHFFHFHF\nFFFHFFFG\n  (Left)\nSFFFFFFF\nFFFFFFFF\nFFFHFFFF\nFFFFFHFF\nFFFHFFFF\nFHHFFFHF\nFHFFHFHF\n\u001b[41mF\u001b[0mFFHFFFG\n  (Left)\nSFFFFFFF\nFFFFFFFF\nFFFHFFFF\nFFFFFHFF\nFFFHFFFF\nFHHFFFHF\nFHFFHFHF\n\u001b[41mF\u001b[0mFFHFFFG\n  (Left)\nSFFFFFFF\nFFFFFFFF\nFFFHFFFF\nFFFFFHFF\nFFFHFFFF\nFHHFFFHF\nFHFFHFHF\n\u001b[41mF\u001b[0mFFHFFFG\n  (Left)\nSFFFFFFF\nFFFFFFFF\nFFFHFFFF\nFFFFFHFF\nFFFHFFFF\nFHHFFFHF\n\u001b[41mF\u001b[0mHFFHFHF\nFFFHFFFG\n  (Left)\nSFFFFFFF\nFFFFFFFF\nFFFHFFFF\nFFFFFHFF\nFFFHFFFF\nFHHFFFHF\n\u001b[41mF\u001b[0mHFFHFHF\nFFFHFFFG\n  (Left)\nSFFFFFFF\nFFFFFFFF\nFFFHFFFF\nFFFFFHFF\nFFFHFFFF\nFHHFFFHF\n\u001b[41mF\u001b[0mHFFHFHF\nFFFHFFFG\n  (Left)\nSFFFFFFF\nFFFFFFFF\nFFFHFFFF\nFFFFFHFF\nFFFHFFFF\n\u001b[41mF\u001b[0mHHFFFHF\nFHFFHFHF\nFFFHFFFG\n  (Left)\nSFFFFFFF\nFFFFFFFF\nFFFHFFFF\nFFFFFHFF\n\u001b[41mF\u001b[0mFFHFFFF\nFHHFFFHF\nFHFFHFHF\nFFFHFFFG\n  (Left)\nSFFFFFFF\nFFFFFFFF\nFFFHFFFF\n\u001b[41mF\u001b[0mFFFFHFF\nFFFHFFFF\nFHHFFFHF\nFHFFHFHF\nFFFHFFFG\n  (Left)\nSFFFFFFF\nFFFFFFFF\nFFFHFFFF\n\u001b[41mF\u001b[0mFFFFHFF\nFFFHFFFF\nFHHFFFHF\nFHFFHFHF\nFFFHFFFG\n  (Left)\nSFFFFFFF\nFFFFFFFF\nFFFHFFFF\n\u001b[41mF\u001b[0mFFFFHFF\nFFFHFFFF\nFHHFFFHF\nFHFFHFHF\nFFFHFFFG\n  (Left)\nSFFFFFFF\nFFFFFFFF\nFFFHFFFF\nFFFFFHFF\n\u001b[41mF\u001b[0mFFHFFFF\nFHHFFFHF\nFHFFHFHF\nFFFHFFFG\n  (Left)\nSFFFFFFF\nFFFFFFFF\nFFFHFFFF\nFFFFFHFF\nFFFHFFFF\n\u001b[41mF\u001b[0mHHFFFHF\nFHFFHFHF\nFFFHFFFG\n  (Left)\nSFFFFFFF\nFFFFFFFF\nFFFHFFFF\nFFFFFHFF\nFFFHFFFF\n\u001b[41mF\u001b[0mHHFFFHF\nFHFFHFHF\nFFFHFFFG\n  (Left)\nSFFFFFFF\nFFFFFFFF\nFFFHFFFF\nFFFFFHFF\nFFFHFFFF\nFHHFFFHF\n\u001b[41mF\u001b[0mHFFHFHF\nFFFHFFFG\n  (Left)\nSFFFFFFF\nFFFFFFFF\nFFFHFFFF\nFFFFFHFF\nFFFHFFFF\nFHHFFFHF\nFHFFHFHF\n\u001b[41mF\u001b[0mFFHFFFG\n  (Left)\nSFFFFFFF\nFFFFFFFF\nFFFHFFFF\nFFFFFHFF\nFFFHFFFF\nFHHFFFHF\n\u001b[41mF\u001b[0mHFFHFHF\nFFFHFFFG\n  (Left)\nSFFFFFFF\nFFFFFFFF\nFFFHFFFF\nFFFFFHFF\nFFFHFFFF\nFHHFFFHF\nFHFFHFHF\n\u001b[41mF\u001b[0mFFHFFFG\n  (Left)\nSFFFFFFF\nFFFFFFFF\nFFFHFFFF\nFFFFFHFF\nFFFHFFFF\nFHHFFFHF\nFHFFHFHF\n\u001b[41mF\u001b[0mFFHFFFG\n  (Left)\nSFFFFFFF\nFFFFFFFF\nFFFHFFFF\nFFFFFHFF\nFFFHFFFF\nFHHFFFHF\nFHFFHFHF\n\u001b[41mF\u001b[0mFFHFFFG\n  (Left)\nSFFFFFFF\nFFFFFFFF\nFFFHFFFF\nFFFFFHFF\nFFFHFFFF\nFHHFFFHF\nFHFFHFHF\n\u001b[41mF\u001b[0mFFHFFFG\n  (Left)\nSFFFFFFF\nFFFFFFFF\nFFFHFFFF\nFFFFFHFF\nFFFHFFFF\nFHHFFFHF\nFHFFHFHF\n\u001b[41mF\u001b[0mFFHFFFG\n  (Left)\nSFFFFFFF\nFFFFFFFF\nFFFHFFFF\nFFFFFHFF\nFFFHFFFF\nFHHFFFHF\nFHFFHFHF\n\u001b[41mF\u001b[0mFFHFFFG\n  (Left)\nSFFFFFFF\nFFFFFFFF\nFFFHFFFF\nFFFFFHFF\nFFFHFFFF\nFHHFFFHF\nFHFFHFHF\n\u001b[41mF\u001b[0mFFHFFFG\n  (Left)\nSFFFFFFF\nFFFFFFFF\nFFFHFFFF\nFFFFFHFF\nFFFHFFFF\nFHHFFFHF\nFHFFHFHF\n\u001b[41mF\u001b[0mFFHFFFG\n  (Left)\nSFFFFFFF\nFFFFFFFF\nFFFHFFFF\nFFFFFHFF\nFFFHFFFF\nFHHFFFHF\nFHFFHFHF\n\u001b[41mF\u001b[0mFFHFFFG\n  (Left)\nSFFFFFFF\nFFFFFFFF\nFFFHFFFF\nFFFFFHFF\nFFFHFFFF\nFHHFFFHF\nFHFFHFHF\n\u001b[41mF\u001b[0mFFHFFFG\n  (Left)\nSFFFFFFF\nFFFFFFFF\nFFFHFFFF\nFFFFFHFF\nFFFHFFFF\nFHHFFFHF\nFHFFHFHF\n\u001b[41mF\u001b[0mFFHFFFG\n  (Left)\nSFFFFFFF\nFFFFFFFF\nFFFHFFFF\nFFFFFHFF\nFFFHFFFF\nFHHFFFHF\nFHFFHFHF\n\u001b[41mF\u001b[0mFFHFFFG\n  (Left)\nSFFFFFFF\nFFFFFFFF\nFFFHFFFF\nFFFFFHFF\nFFFHFFFF\nFHHFFFHF\nFHFFHFHF\n\u001b[41mF\u001b[0mFFHFFFG\n  (Left)\nSFFFFFFF\nFFFFFFFF\nFFFHFFFF\nFFFFFHFF\nFFFHFFFF\nFHHFFFHF\n\u001b[41mF\u001b[0mHFFHFHF\nFFFHFFFG\n  (Left)\nSFFFFFFF\nFFFFFFFF\nFFFHFFFF\nFFFFFHFF\nFFFHFFFF\nFHHFFFHF\n\u001b[41mF\u001b[0mHFFHFHF\nFFFHFFFG\n  (Left)\nSFFFFFFF\nFFFFFFFF\nFFFHFFFF\nFFFFFHFF\nFFFHFFFF\n\u001b[41mF\u001b[0mHHFFFHF\nFHFFHFHF\nFFFHFFFG\n  (Left)\nSFFFFFFF\nFFFFFFFF\nFFFHFFFF\nFFFFFHFF\n\u001b[41mF\u001b[0mFFHFFFF\nFHHFFFHF\nFHFFHFHF\nFFFHFFFG\n  (Left)\nSFFFFFFF\nFFFFFFFF\nFFFHFFFF\nFFFFFHFF\nFFFHFFFF\n\u001b[41mF\u001b[0mHHFFFHF\nFHFFHFHF\nFFFHFFFG\n  (Left)\nSFFFFFFF\nFFFFFFFF\nFFFHFFFF\nFFFFFHFF\n\u001b[41mF\u001b[0mFFHFFFF\nFHHFFFHF\nFHFFHFHF\nFFFHFFFG\n  (Left)\nSFFFFFFF\nFFFFFFFF\nFFFHFFFF\n\u001b[41mF\u001b[0mFFFFHFF\nFFFHFFFF\nFHHFFFHF\nFHFFHFHF\nFFFHFFFG\n  (Left)\nSFFFFFFF\nFFFFFFFF\n\u001b[41mF\u001b[0mFFHFFFF\nFFFFFHFF\nFFFHFFFF\nFHHFFFHF\nFHFFHFHF\nFFFHFFFG\n  (Left)\nSFFFFFFF\n\u001b[41mF\u001b[0mFFFFFFF\nFFFHFFFF\nFFFFFHFF\nFFFHFFFF\nFHHFFFHF\nFHFFHFHF\nFFFHFFFG\n  (Left)\nSFFFFFFF\n\u001b[41mF\u001b[0mFFFFFFF\nFFFHFFFF\nFFFFFHFF\nFFFHFFFF\nFHHFFFHF\nFHFFHFHF\nFFFHFFFG\n  (Left)\nSFFFFFFF\n\u001b[41mF\u001b[0mFFFFFFF\nFFFHFFFF\nFFFFFHFF\nFFFHFFFF\nFHHFFFHF\nFHFFHFHF\nFFFHFFFG\n  (Left)\n\u001b[41mS\u001b[0mFFFFFFF\nFFFFFFFF\nFFFHFFFF\nFFFFFHFF\nFFFHFFFF\nFHHFFFHF\nFHFFHFHF\nFFFHFFFG\n  (Left)\nSFFFFFFF\n\u001b[41mF\u001b[0mFFFFFFF\nFFFHFFFF\nFFFFFHFF\nFFFHFFFF\nFHHFFFHF\nFHFFHFHF\nFFFHFFFG\n  (Left)\n\u001b[41mS\u001b[0mFFFFFFF\nFFFFFFFF\nFFFHFFFF\nFFFFFHFF\nFFFHFFFF\nFHHFFFHF\nFHFFHFHF\nFFFHFFFG\n  (Left)\n\u001b[41mS\u001b[0mFFFFFFF\nFFFFFFFF\nFFFHFFFF\nFFFFFHFF\nFFFHFFFF\nFHHFFFHF\nFHFFHFHF\nFFFHFFFG\n  (Left)\nSFFFFFFF\n\u001b[41mF\u001b[0mFFFFFFF\nFFFHFFFF\nFFFFFHFF\nFFFHFFFF\nFHHFFFHF\nFHFFHFHF\nFFFHFFFG\n  (Left)\nSFFFFFFF\nFFFFFFFF\n\u001b[41mF\u001b[0mFFHFFFF\nFFFFFHFF\nFFFHFFFF\nFHHFFFHF\nFHFFHFHF\nFFFHFFFG\n  (Left)\nSFFFFFFF\n\u001b[41mF\u001b[0mFFFFFFF\nFFFHFFFF\nFFFFFHFF\nFFFHFFFF\nFHHFFFHF\nFHFFHFHF\nFFFHFFFG\n  (Left)\nSFFFFFFF\n\u001b[41mF\u001b[0mFFFFFFF\nFFFHFFFF\nFFFFFHFF\nFFFHFFFF\nFHHFFFHF\nFHFFHFHF\nFFFHFFFG\n  (Left)\nSFFFFFFF\nFFFFFFFF\n\u001b[41mF\u001b[0mFFHFFFF\nFFFFFHFF\nFFFHFFFF\nFHHFFFHF\nFHFFHFHF\nFFFHFFFG\n  (Left)\nSFFFFFFF\n\u001b[41mF\u001b[0mFFFFFFF\nFFFHFFFF\nFFFFFHFF\nFFFHFFFF\nFHHFFFHF\nFHFFHFHF\nFFFHFFFG\nIt took 199 steps to finish\n  (Left)\n\u001b[41mS\u001b[0mFFFFFFF\nFFFFFFFF\nFFFHFFFF\nFFFFFHFF\nFFFHFFFF\nFHHFFFHF\nFHFFHFHF\nFFFHFFFG\nProgress: 100%|██████████| 15000/15000 [00:40<00:00, 306.55it/s]"
    }
   ],
   "source": [
    "state = env.reset() #Resets Environment\n",
    "\n",
    "for s in range(MAX_STEPS):\n",
    "    \n",
    "    env.render() #Renders Environment. CAUTION: Rendering takes more time to train\n",
    "    \n",
    "    #Picks Action based on max reward\n",
    "    action = np.argmax(Q[state, : ])\n",
    "    new_state, reward, done, _ = env.step(action) #Takes the action\n",
    "\n",
    "    #changes states\n",
    "    state = new_state\n",
    "\n",
    "    #Handles if game finished\n",
    "    if done:\n",
    "        break\n",
    "print(\"It took\", s, \"steps to finish\")\n",
    "env.render()"
   ]
  },
  {
   "cell_type": "code",
   "execution_count": null,
   "metadata": {},
   "outputs": [],
   "source": []
  }
 ]
}