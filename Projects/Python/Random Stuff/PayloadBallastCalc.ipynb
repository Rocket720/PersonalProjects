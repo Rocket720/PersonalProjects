{
 "cells": [
  {
   "cell_type": "code",
   "execution_count": 89,
   "metadata": {},
   "outputs": [],
   "source": [
    "from matplotlib.pyplot import *\n",
    "import numpy as np\n",
    "import pandas as pd"
   ]
  },
  {
   "cell_type": "code",
   "execution_count": 90,
   "metadata": {},
   "outputs": [],
   "source": [
    "thickness = np.array([1/16, 3/32, 1/8, 5/32, 3/16, 1/4, 3/8, 1/2, 3/4, 1, 1.25, 1.5, 2])\n",
    "price = np.array([12.69, 14.49, 15.98, 17.52, 19.89, 24.06, 30.33, 35.02, 49.77, 65.75, 48.64, 49.12, 66.84])"
   ]
  },
  {
   "cell_type": "code",
   "execution_count": 91,
   "metadata": {},
   "outputs": [],
   "source": [
    "# Linear Regression\n",
    "m, b = np.polyfit(thickness, price, 1)"
   ]
  },
  {
   "cell_type": "code",
   "execution_count": null,
   "metadata": {},
   "outputs": [],
   "source": [
    "# figure(1)\n",
    "scatter(thickness, price)\n",
    "plot(thickness, m*thickness+b)\n",
    "# show()"
   ]
  },
  {
   "cell_type": "code",
   "execution_count": 93,
   "metadata": {},
   "outputs": [],
   "source": [
    "rho = 222.3005/27787.5645\n",
    "h = 1001/(rho*8751.9888) / 25.4\n",
    "n = (h/thickness).astype(int)"
   ]
  },
  {
   "cell_type": "code",
   "execution_count": 94,
   "metadata": {},
   "outputs": [],
   "source": [
    "weight = thickness*25.4 * n * 8751.9888 * rho"
   ]
  },
  {
   "cell_type": "code",
   "execution_count": 95,
   "metadata": {},
   "outputs": [
    {
     "data": {
      "text/plain": [
       "0.5628642322899625"
      ]
     },
     "execution_count": 95,
     "metadata": {},
     "output_type": "execute_result"
    }
   ],
   "source": [
    "h"
   ]
  },
  {
   "cell_type": "code",
   "execution_count": 100,
   "metadata": {},
   "outputs": [
    {
     "data": {
      "text/html": [
       "<div>\n",
       "<style scoped>\n",
       "    .dataframe tbody tr th:only-of-type {\n",
       "        vertical-align: middle;\n",
       "    }\n",
       "\n",
       "    .dataframe tbody tr th {\n",
       "        vertical-align: top;\n",
       "    }\n",
       "\n",
       "    .dataframe thead th {\n",
       "        text-align: right;\n",
       "    }\n",
       "</style>\n",
       "<table border=\"1\" class=\"dataframe\">\n",
       "  <thead>\n",
       "    <tr style=\"text-align: right;\">\n",
       "      <th></th>\n",
       "      <th>Plate Thickness (in)</th>\n",
       "      <th>Plate Thickness (mm)</th>\n",
       "      <th>Plate Price</th>\n",
       "      <th>Plates Required</th>\n",
       "      <th>Weight Possible</th>\n",
       "      <th>Total Price</th>\n",
       "    </tr>\n",
       "  </thead>\n",
       "  <tbody>\n",
       "    <tr>\n",
       "      <th>0</th>\n",
       "      <td>0.06250</td>\n",
       "      <td>1.58750</td>\n",
       "      <td>12.69</td>\n",
       "      <td>9.0</td>\n",
       "      <td>1000.352248</td>\n",
       "      <td>114.21</td>\n",
       "    </tr>\n",
       "    <tr>\n",
       "      <th>1</th>\n",
       "      <td>0.09375</td>\n",
       "      <td>2.38125</td>\n",
       "      <td>14.49</td>\n",
       "      <td>6.0</td>\n",
       "      <td>1000.352248</td>\n",
       "      <td>86.94</td>\n",
       "    </tr>\n",
       "    <tr>\n",
       "      <th>2</th>\n",
       "      <td>0.12500</td>\n",
       "      <td>3.17500</td>\n",
       "      <td>15.98</td>\n",
       "      <td>4.0</td>\n",
       "      <td>889.201998</td>\n",
       "      <td>63.92</td>\n",
       "    </tr>\n",
       "    <tr>\n",
       "      <th>3</th>\n",
       "      <td>0.15625</td>\n",
       "      <td>3.96875</td>\n",
       "      <td>17.52</td>\n",
       "      <td>3.0</td>\n",
       "      <td>833.626873</td>\n",
       "      <td>52.56</td>\n",
       "    </tr>\n",
       "    <tr>\n",
       "      <th>4</th>\n",
       "      <td>0.18750</td>\n",
       "      <td>4.76250</td>\n",
       "      <td>19.89</td>\n",
       "      <td>3.0</td>\n",
       "      <td>1000.352248</td>\n",
       "      <td>59.67</td>\n",
       "    </tr>\n",
       "    <tr>\n",
       "      <th>5</th>\n",
       "      <td>0.25000</td>\n",
       "      <td>6.35000</td>\n",
       "      <td>24.06</td>\n",
       "      <td>2.0</td>\n",
       "      <td>889.201998</td>\n",
       "      <td>48.12</td>\n",
       "    </tr>\n",
       "    <tr>\n",
       "      <th>6</th>\n",
       "      <td>0.37500</td>\n",
       "      <td>9.52500</td>\n",
       "      <td>30.33</td>\n",
       "      <td>1.0</td>\n",
       "      <td>666.901499</td>\n",
       "      <td>30.33</td>\n",
       "    </tr>\n",
       "    <tr>\n",
       "      <th>7</th>\n",
       "      <td>0.50000</td>\n",
       "      <td>12.70000</td>\n",
       "      <td>35.02</td>\n",
       "      <td>1.0</td>\n",
       "      <td>889.201998</td>\n",
       "      <td>35.02</td>\n",
       "    </tr>\n",
       "    <tr>\n",
       "      <th>8</th>\n",
       "      <td>0.75000</td>\n",
       "      <td>19.05000</td>\n",
       "      <td>49.77</td>\n",
       "      <td>0.0</td>\n",
       "      <td>0.000000</td>\n",
       "      <td>0.00</td>\n",
       "    </tr>\n",
       "    <tr>\n",
       "      <th>9</th>\n",
       "      <td>1.00000</td>\n",
       "      <td>25.40000</td>\n",
       "      <td>65.75</td>\n",
       "      <td>0.0</td>\n",
       "      <td>0.000000</td>\n",
       "      <td>0.00</td>\n",
       "    </tr>\n",
       "    <tr>\n",
       "      <th>10</th>\n",
       "      <td>1.25000</td>\n",
       "      <td>31.75000</td>\n",
       "      <td>48.64</td>\n",
       "      <td>0.0</td>\n",
       "      <td>0.000000</td>\n",
       "      <td>0.00</td>\n",
       "    </tr>\n",
       "    <tr>\n",
       "      <th>11</th>\n",
       "      <td>1.50000</td>\n",
       "      <td>38.10000</td>\n",
       "      <td>49.12</td>\n",
       "      <td>0.0</td>\n",
       "      <td>0.000000</td>\n",
       "      <td>0.00</td>\n",
       "    </tr>\n",
       "    <tr>\n",
       "      <th>12</th>\n",
       "      <td>2.00000</td>\n",
       "      <td>50.80000</td>\n",
       "      <td>66.84</td>\n",
       "      <td>0.0</td>\n",
       "      <td>0.000000</td>\n",
       "      <td>0.00</td>\n",
       "    </tr>\n",
       "  </tbody>\n",
       "</table>\n",
       "</div>"
      ],
      "text/plain": [
       "    Plate Thickness (in)  Plate Thickness (mm)  Plate Price  Plates Required  \\\n",
       "0                0.06250               1.58750        12.69              9.0   \n",
       "1                0.09375               2.38125        14.49              6.0   \n",
       "2                0.12500               3.17500        15.98              4.0   \n",
       "3                0.15625               3.96875        17.52              3.0   \n",
       "4                0.18750               4.76250        19.89              3.0   \n",
       "5                0.25000               6.35000        24.06              2.0   \n",
       "6                0.37500               9.52500        30.33              1.0   \n",
       "7                0.50000              12.70000        35.02              1.0   \n",
       "8                0.75000              19.05000        49.77              0.0   \n",
       "9                1.00000              25.40000        65.75              0.0   \n",
       "10               1.25000              31.75000        48.64              0.0   \n",
       "11               1.50000              38.10000        49.12              0.0   \n",
       "12               2.00000              50.80000        66.84              0.0   \n",
       "\n",
       "    Weight Possible  Total Price  \n",
       "0       1000.352248       114.21  \n",
       "1       1000.352248        86.94  \n",
       "2        889.201998        63.92  \n",
       "3        833.626873        52.56  \n",
       "4       1000.352248        59.67  \n",
       "5        889.201998        48.12  \n",
       "6        666.901499        30.33  \n",
       "7        889.201998        35.02  \n",
       "8          0.000000         0.00  \n",
       "9          0.000000         0.00  \n",
       "10         0.000000         0.00  \n",
       "11         0.000000         0.00  \n",
       "12         0.000000         0.00  "
      ]
     },
     "execution_count": 100,
     "metadata": {},
     "output_type": "execute_result"
    }
   ],
   "source": [
    "df = pd.DataFrame(np.array([thickness, thickness*25.4, price, n, weight, n*price]).T, columns = [\"Plate Thickness (in)\", \"Plate Thickness (mm)\", \"Plate Price\", \"Plates Required\", \"Weight Possible\", \"Total Price\"])\n",
    "df"
   ]
  },
  {
   "cell_type": "code",
   "execution_count": null,
   "metadata": {},
   "outputs": [],
   "source": []
  }
 ],
 "metadata": {
  "kernelspec": {
   "display_name": "Python 3",
   "language": "python",
   "name": "python3"
  },
  "language_info": {
   "codemirror_mode": {
    "name": "ipython",
    "version": 3
   },
   "file_extension": ".py",
   "mimetype": "text/x-python",
   "name": "python",
   "nbconvert_exporter": "python",
   "pygments_lexer": "ipython3",
   "version": "3.9.1"
  },
  "orig_nbformat": 4,
  "vscode": {
   "interpreter": {
    "hash": "d96784d68d6a4faeba9ace705c1bd9dbc2aca5c4c78a6a746f878f196dd8b3e1"
   }
  }
 },
 "nbformat": 4,
 "nbformat_minor": 2
}
